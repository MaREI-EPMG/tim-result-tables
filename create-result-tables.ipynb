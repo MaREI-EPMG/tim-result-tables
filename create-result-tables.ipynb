{
 "cells": [
  {
   "cell_type": "markdown",
   "metadata": {
    "collapsed": true,
    "pycharm": {
     "name": "#%% md\n"
    }
   },
   "source": [
    "# Create Result Tables"
   ]
  },
  {
   "cell_type": "code",
   "execution_count": 48,
   "metadata": {
    "pycharm": {
     "name": "#%%\n"
    }
   },
   "outputs": [],
   "source": [
    "import glob\n",
    "import pathlib\n",
    "import json\n",
    "import pandas as pd\n",
    "from timeslib.reporting import print_to_xlsx\n",
    "from timeslib.misc import read_data_csv"
   ]
  },
  {
   "cell_type": "markdown",
   "metadata": {
    "pycharm": {
     "name": "#%% md\n"
    }
   },
   "source": [
    "### Specify input folder"
   ]
  },
  {
   "cell_type": "code",
   "execution_count": 49,
   "metadata": {
    "pycharm": {
     "name": "#%%\n"
    }
   },
   "outputs": [],
   "source": [
    "input_folder = \"./input/\""
   ]
  },
  {
   "cell_type": "markdown",
   "metadata": {
    "pycharm": {
     "name": "#%% md\n"
    }
   },
   "source": [
    "### Specify output folder"
   ]
  },
  {
   "cell_type": "code",
   "execution_count": 50,
   "metadata": {
    "pycharm": {
     "name": "#%%\n"
    }
   },
   "outputs": [],
   "source": [
    "output_folder = \"./output/\""
   ]
  },
  {
   "cell_type": "markdown",
   "metadata": {
    "pycharm": {
     "name": "#%% md\n"
    }
   },
   "source": [
    "### Load table info"
   ]
  },
  {
   "cell_type": "code",
   "execution_count": 51,
   "metadata": {
    "pycharm": {
     "name": "#%%\n"
    }
   },
   "outputs": [],
   "source": [
    "with open(\"./tim-tables-info/table_info.json\", \"r\") as file:\n",
    "    table_info = json.load(file)"
   ]
  },
  {
   "cell_type": "code",
   "execution_count": 52,
   "metadata": {
    "pycharm": {
     "name": "#%%\n"
    }
   },
   "outputs": [
    {
     "name": "stdout",
     "output_type": "stream",
     "text": [
      "Found 119 csv files.\n",
      "./input\\AGR_FEC.csv\n",
      "./input\\AGR_FuelPrice.csv\n",
      "./input\\AGR_NRG-BIO-PRIME.csv\n",
      "./input\\AGR_NRG-BIO-PRIME_SEAI.csv\n",
      "./input\\IND-CAF_FEC.csv\n",
      "./input\\IND-CON_FEC.csv\n",
      "./input\\IND-EOE_FEC.csv\n",
      "./input\\IND-FAB_FEC.csv\n",
      "./input\\IND-MAE_FEC.csv\n",
      "./input\\IND-MAP_FEC.csv\n",
      "./input\\IND-NEM_FEC.csv\n",
      "./input\\IND-OMA_FEC.csv\n",
      "./input\\IND-ONM_FEC.csv\n",
      "./input\\IND-PX4_FEC.csv\n",
      "./input\\IND-RAP_FEC.csv\n",
      "./input\\IND-TAP_FEC.csv\n",
      "./input\\IND-TEM_FEC.csv\n",
      "./input\\IND-WAP_FEC.csv\n",
      "./input\\IND_Emissions-CO2.csv\n",
      "./input\\IND_FEC.csv\n",
      "./input\\IND_FEC_Sector.csv\n",
      "./input\\IND_FuelPrice.csv\n",
      "./input\\PWR_Cap-N.csv\n",
      "./input\\PWR_Cap.csv\n",
      "./input\\PWR_Emissions-CO2.csv\n",
      "./input\\PWR_FuelPrice.csv\n",
      "./input\\PWR_Gen-ELCC.csv\n",
      "./input\\PWR_Gen-HETC.csv\n",
      "./input\\Residential Services.csv\n",
      "./input\\RSD_BLD-N_TYPE.csv\n",
      "./input\\RSD_BLD_TYPE.csv\n",
      "./input\\RSD_CK_TYPE.csv\n",
      "./input\\RSD_FEC.csv\n",
      "./input\\RSD_FuelPrice.csv\n",
      "./input\\RSD_OtherServices_FuelCons.csv\n",
      "./input\\RSD_RTFT-ATT_NCAP.csv\n",
      "./input\\RSD_RTFT-DET_NCAP.csv\n",
      "./input\\RSD_RTFT_NRG_SAVINGS.csv\n",
      "./input\\RSD_Services_CO2Emissions.csv\n",
      "./input\\RSD_Services_EnergyCons.csv\n",
      "./input\\RSD_WaterSpace_FuelCons.csv\n",
      "./input\\RSD_WS-APT_FuelCons.csv\n",
      "./input\\RSD_WS-APT_NCAP.csv\n",
      "./input\\RSD_WS-ATT_FuelCons.csv\n",
      "./input\\RSD_WS-ATT_NCAP.csv\n",
      "./input\\RSD_WS-DET_FuelCons.csv\n",
      "./input\\RSD_WS-DET_NCAP.csv\n",
      "./input\\SRV-COM_FEC_WS.csv\n",
      "./input\\SRV-DCs_EH.csv\n",
      "./input\\SRV-DCs_EH_DH-Grid.csv\n",
      "./input\\SRV-PUB_FEC_WS.csv\n",
      "./input\\SRV_FEC.csv\n",
      "./input\\SRV_FEC_COK.csv\n",
      "./input\\SRV_FEC_DCs.csv\n",
      "./input\\SRV_FEC_Service.csv\n",
      "./input\\SRV_FuelPrice.csv\n",
      "./input\\SUP_BIODST.csv\n",
      "./input\\SUP_BIOETH.csv\n",
      "./input\\SUP_BIOGAS.csv\n",
      "./input\\SUP_HYDROGEN.csv\n",
      "./input\\SYS_CO2Price.csv\n",
      "./input\\SYS_Cost_Sector.csv\n",
      "./input\\SYS_Cost_Type.csv\n",
      "./input\\SYS_DACS.csv\n",
      "./input\\SYS_Emissions_CH4.csv\n",
      "./input\\SYS_Emissions_CO2.csv\n",
      "./input\\SYS_Emissions_N2O.csv\n",
      "./input\\SYS_FEC-BIODST_Sector.csv\n",
      "./input\\SYS_FEC-BIOETH_Sector.csv\n",
      "./input\\SYS_FEC-BIOGAS_Sector.csv\n",
      "./input\\SYS_FEC-BIOWOOx_Sector.csv\n",
      "./input\\SYS_FEC-COA_Sector.csv\n",
      "./input\\SYS_FEC-ELCD_Sector.csv\n",
      "./input\\SYS_FEC-GASNAT_Sector.csv\n",
      "./input\\SYS_FEC-H2_Sector.csv\n",
      "./input\\SYS_FEC-HETD_Sector.csv\n",
      "./input\\SYS_FEC-HFO_Sector.csv\n",
      "./input\\SYS_FEC-LPG_Sector.csv\n",
      "./input\\SYS_FEC-OILDST_Sector.csv\n",
      "./input\\SYS_FEC-OILGSL_Sector.csv\n",
      "./input\\SYS_FEC-OILKER_Sector.csv\n",
      "./input\\SYS_FEC-PEAT_Sector.csv\n",
      "./input\\SYS_FEC_Fuel.csv\n",
      "./input\\SYS_FEC_Fuel_SEAI.csv\n",
      "./input\\SYS_FEC_Sector.csv\n",
      "./input\\SYS_LumpInv_Sector.csv\n",
      "./input\\SYS_NRG-Export.csv\n",
      "./input\\SYS_NRG-Export_SEAI.csv\n",
      "./input\\SYS_NRG-Export_SEAI_2.csv\n",
      "./input\\SYS_NRG-Import.csv\n",
      "./input\\SYS_NRG-Import_SEAI.csv\n",
      "./input\\SYS_NRG-Mining.csv\n",
      "./input\\SYS_NRG-Mining_SEAI.csv\n",
      "./input\\TRA-Land_LumpInv.csv\n",
      "./input\\TRA_AVIDOM_FuelCons.csv\n",
      "./input\\TRA_AVIINT_FuelCons.csv\n",
      "./input\\TRA_AVIINT_NAV_EmissionsCO2.csv\n",
      "./input\\TRA_Emissions-CO2.csv\n",
      "./input\\TRA_F-HTRUCK-N_TYPE.csv\n",
      "./input\\TRA_F-HTRUCK_TYPE.csv\n",
      "./input\\TRA_F-LTRUCK-N_TYPE.csv\n",
      "./input\\TRA_F-LTRUCK_TYPE.csv\n",
      "./input\\TRA_F-MTRUCK-N_TYPE.csv\n",
      "./input\\TRA_F-MTRUCK_TYPE.csv\n",
      "./input\\TRA_FEC.csv\n",
      "./input\\TRA_Freight_Land_FuelCons.csv\n",
      "./input\\TRA_Freight_Land_Mode.csv\n",
      "./input\\TRA_FuelPrice.csv\n",
      "./input\\TRA_NAV_FuelCons.csv\n",
      "./input\\TRA_OTH_FuelCons.csv\n",
      "./input\\TRA_P-CAR-N_TYPE.csv\n",
      "./input\\TRA_P-CAR_TYPE.csv\n",
      "./input\\TRA_Passenger_Land_Distance.csv\n",
      "./input\\TRA_Passenger_Land_FuelCons.csv\n",
      "./input\\TRA_Passenger_Land_Mode-L.csv\n",
      "./input\\TRA_Passenger_Land_Mode-M.csv\n",
      "./input\\TRA_Passenger_Land_Mode-S.csv\n",
      "./input\\TRA_Passenger_Land_Mode.csv\n",
      "./input\\TRA_TURS_FuelCons.csv\n"
     ]
    }
   ],
   "source": [
    "# get list of all input data files with a certain name extension\n",
    "path_list = glob.glob(input_folder + \"*.csv\")\n",
    "print(\n",
    "    \"Found {} csv files.\\n\".format(len(path_list)),\n",
    "    \"\\n\".join(\"{}\".format(k) for k in path_list),\n",
    "    sep=\"\",\n",
    ")"
   ]
  },
  {
   "cell_type": "markdown",
   "source": [
    "### Read csv data into a dataframe"
   ],
   "metadata": {
    "collapsed": false,
    "pycharm": {
     "name": "#%% md\n"
    }
   }
  },
  {
   "cell_type": "code",
   "execution_count": 53,
   "outputs": [],
   "source": [
    "# Create an empty DataFrame\n",
    "data = pd.DataFrame()\n",
    "# Read data into the dataframe\n",
    "for a_table in table_info.keys():\n",
    "    for a_table_rule in table_info[a_table].keys():\n",
    "        file_path = glob.glob(input_folder + a_table_rule + \".csv\")\n",
    "        if file_path:\n",
    "            df = read_data_csv(file_path[0],\n",
    "                               {a_table_rule: table_info[a_table][a_table_rule]})\n",
    "            if df is not None:\n",
    "                df[\"tableName\"] = a_table\n",
    "                data = data.append(df, ignore_index=True)\n",
    "\n",
    "assert len(data.index), \"The dataframe is empty. No data has been read.\"\n",
    "\n",
    "data = data.groupby([i for i in data.columns if not i == \"total\"]).agg(\"sum\")\n",
    "data = data.reset_index()"
   ],
   "metadata": {
    "collapsed": false,
    "pycharm": {
     "name": "#%%\n"
    }
   }
  },
  {
   "cell_type": "markdown",
   "source": [
    "### Print results to excel files"
   ],
   "metadata": {
    "collapsed": false,
    "pycharm": {
     "name": "#%% md\n"
    }
   }
  },
  {
   "cell_type": "code",
   "execution_count": 57,
   "outputs": [],
   "source": [
    "for aScenario in data[\"scenario\"].unique():\n",
    "        temp_df = (\n",
    "            data[\n",
    "                (data[\"scenario\"] == aScenario)\n",
    "            ]\n",
    "            .drop(columns=[\"scenario\"])\n",
    "            .pivot(index=[\"tableName\", \"serieName\"], columns=\"year\", values=\"total\")\n",
    "        )\n",
    "        temp_df.fillna(value=0, inplace=True)\n",
    "        temp_df.index = [temp_df.index.map(\"{0[0]} [{0[1]}]\".format)]\n",
    "        temp_df.to_excel(output_folder + aScenario + \".xlsx\")"
   ],
   "metadata": {
    "collapsed": false,
    "pycharm": {
     "name": "#%%\n"
    }
   }
  }
 ],
 "metadata": {
  "kernelspec": {
   "display_name": "Python 3 (ipykernel)",
   "language": "python",
   "name": "python3"
  },
  "language_info": {
   "codemirror_mode": {
    "name": "ipython",
    "version": 3
   },
   "file_extension": ".py",
   "mimetype": "text/x-python",
   "name": "python",
   "nbconvert_exporter": "python",
   "pygments_lexer": "ipython3",
   "version": "3.9.9"
  }
 },
 "nbformat": 4,
 "nbformat_minor": 1
}