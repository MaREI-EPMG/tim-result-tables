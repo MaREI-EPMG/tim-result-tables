{
 "cells": [
  {
   "cell_type": "markdown",
   "metadata": {
    "collapsed": true
   },
   "source": [
    "# Create Result Tables"
   ]
  },
  {
   "cell_type": "code",
   "execution_count": 1,
   "metadata": {},
   "outputs": [],
   "source": [
    "import pathlib\n",
    "import json\n",
    "import pandas as pd\n",
    "from tkinter import filedialog\n",
    "from tkinter import Tk\n",
    "from timeslib.misc import read_data_csv"
   ]
  },
  {
   "cell_type": "markdown",
   "metadata": {},
   "source": [
    "### Specify input folder"
   ]
  },
  {
   "cell_type": "code",
   "execution_count": 2,
   "outputs": [],
   "source": [
    "root=Tk()\n",
    "input_folder = pathlib.Path(filedialog.askdirectory(title=\"Select input folder...\"), parent=root, master=root)\n",
    "root.destroy()"
   ],
   "metadata": {
    "collapsed": false
   }
  },
  {
   "cell_type": "code",
   "execution_count": 3,
   "outputs": [],
   "source": [
    "print(input_folder)"
   ],
   "metadata": {
    "collapsed": false
   }
  },
  {
   "cell_type": "markdown",
   "metadata": {},
   "source": [
    "### Specify output folder"
   ]
  },
  {
   "cell_type": "code",
   "execution_count": 4,
   "metadata": {},
   "outputs": [],
   "source": [
    "root=Tk()\n",
    "output_folder = pathlib.Path(filedialog.askdirectory(title=\"Select output folder...\"), parent=root, master=root)\n",
    "root.destroy()"
   ]
  },
  {
   "cell_type": "code",
   "execution_count": 5,
   "outputs": [],
   "source": [
    "print(output_folder)"
   ],
   "metadata": {
    "collapsed": false
   }
  },
  {
   "cell_type": "markdown",
   "metadata": {},
   "source": [
    "### Load table info"
   ]
  },
  {
   "cell_type": "code",
   "execution_count": 6,
   "metadata": {},
   "outputs": [],
   "source": [
    "with open(\"./tim-tables-info/table_info.json\", \"r\") as file:\n",
    "    table_info = json.load(file)"
   ]
  },
  {
   "cell_type": "code",
   "execution_count": 7,
   "metadata": {},
   "outputs": [],
   "source": [
    "# get list of all input data files with a certain name extension\n",
    "path_list = sorted(input_folder.rglob(\"*.csv\"))\n",
    "print(\n",
    "    \"Found {} csv files.\\n\".format(len(path_list)),\n",
    "    \"\\n\".join(\"{}\".format(k) for k in path_list),\n",
    "    sep=\"\",\n",
    ")"
   ]
  },
  {
   "cell_type": "markdown",
   "source": [
    "### Read csv data into a dataframe"
   ],
   "metadata": {
    "collapsed": false
   }
  },
  {
   "cell_type": "code",
   "execution_count": 8,
   "outputs": [],
   "source": [
    "# Create an empty DataFrame\n",
    "data = pd.DataFrame()\n",
    "# Read data into the dataframe\n",
    "for a_table in table_info.keys():\n",
    "    for a_table_rule in table_info[a_table].keys():\n",
    "        file_path = input_folder/(a_table_rule + \".csv\")\n",
    "        if file_path.exists():\n",
    "            df = read_data_csv(file_path,\n",
    "                               {a_table_rule: table_info[a_table][a_table_rule]})\n",
    "            if df is not None:\n",
    "                df[\"tableName\"] = a_table\n",
    "                data = pd.concat([data, df], ignore_index=True)\n",
    "\n",
    "assert len(data.index), \"The dataframe is empty. No data has been read.\"\n",
    "\n",
    "data = data.groupby([i for i in data.columns if not i == \"total\"]).agg(\"sum\")\n",
    "data = data.reset_index()"
   ],
   "metadata": {
    "collapsed": false
   }
  },
  {
   "cell_type": "markdown",
   "source": [
    "### Print results to excel files"
   ],
   "metadata": {
    "collapsed": false
   }
  },
  {
   "cell_type": "code",
   "execution_count": 9,
   "outputs": [],
   "source": [
    "for aScenario in data[\"scenario\"].unique():\n",
    "        temp_df = (\n",
    "            data[\n",
    "                (data[\"scenario\"] == aScenario)\n",
    "            ]\n",
    "            .drop(columns=[\"scenario\"])\n",
    "            .pivot(index=[\"tableName\", \"seriesName\"], columns=\"year\", values=\"total\")\n",
    "        )\n",
    "        temp_df.fillna(value=0, inplace=True)\n",
    "        temp_df.index = [temp_df.index.map(\"{0[0]} [{0[1]}]\".format)]\n",
    "        temp_df.to_excel(output_folder/(aScenario + \".xlsx\"))"
   ],
   "metadata": {
    "collapsed": false
   }
  }
 ],
 "metadata": {
  "kernelspec": {
   "display_name": "Python 3 (ipykernel)",
   "language": "python",
   "name": "python3"
  },
  "language_info": {
   "codemirror_mode": {
    "name": "ipython",
    "version": 3
   },
   "file_extension": ".py",
   "mimetype": "text/x-python",
   "name": "python",
   "nbconvert_exporter": "python",
   "pygments_lexer": "ipython3",
   "version": "3.9.9"
  }
 },
 "nbformat": 4,
 "nbformat_minor": 1
}
